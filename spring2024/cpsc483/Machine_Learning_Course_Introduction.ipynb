{
 "cells": [
  {
   "cell_type": "markdown",
   "metadata": {
    "id": "2OpN9hOwEkLH"
   },
   "source": [
    "Author: mingchen@fullerton.edu\n",
    "<br>Last Updated: 01/25/24\n",
    "<br>License: CC BY-NC-SA 4.0\n",
    "<br>Recommended to use on google colab with dark theme.\n",
    "<br>Some format might show incorrectly elsewhere.\n",
    "<br>\n",
    "<img src=\"https://creativecommons.org/images/deed/cc_blue_x2.png\" alt=\"cc\" width=\"30\"/>\n",
    "<img src=\"https://creativecommons.org/images/deed/attribution_icon_blue_x2.png\" alt=\"cc by\" width=\"30\"/>\n",
    "<img src=\"https://creativecommons.org/images/deed/nc_blue_x2.png\" alt=\"cc nc\" width=\"30\"/>\n",
    "<img src=\"https://creativecommons.org/images/deed/sa_blue_x2.png\" alt=\"cc sa\" width=\"30\"/>"
   ]
  },
  {
   "cell_type": "markdown",
   "metadata": {
    "id": "m_nQzosrnWLj"
   },
   "source": [
    "# Introduction"
   ]
  },
  {
   "cell_type": "markdown",
   "metadata": {
    "id": "S6VeMfBPzQiq"
   },
   "source": [
    "### What is AI?\n",
    "\n"
   ]
  },
  {
   "cell_type": "markdown",
   "metadata": {
    "id": "vFWjS1jMDm3E"
   },
   "source": [
    "the science and engineering of making intelligent machines. <p align=right>&ensp; --- John McCarthy</p>\n",
    "\n",
    "<br>Any system capable of simulating human intelligence and thought processes is said to have “Artificial Intelligence” (AI).\n",
    "<p align=right> &ensp; --- IBM</p>\n",
    "\n",
    "<br>the theory and development of computer systems able to perform tasks that normally require human intelligence, such as visual perception, speech recognition, decision-making, and translation between languages.  <p align=right>&ensp; --- Oxford Languages Dictionary</p>\n",
    "\n",
    "<br>a set of technologies that enables computers to perform tasks that previously required human intelligence, such as visual perception, speech recognition, decision-making, and language translation. <p align=right>&ensp; ---NIST</p>\n",
    "\n",
    "<br>Artificial intelligence (AI) is a set of technologies that enable computers to perform a variety of advanced functions, including the ability to see, understand and translate spoken and written language, analyze data, make recommendations, and more.\n",
    "<p align=right>&ensp; --- Google Cloud</p>\n",
    "\n",
    "<br>1.Any artificial system that performs tasks under varying and unpredictable circumstances without significant human oversight, or that can learn from experience and improve performance when exposed to data sets.  \n",
    "2.An artificial system developed in computer software, physical hardware, or other context that solves tasks requiring human-like perception, cognition, planning, learning, communication, or physical action.  \n",
    "3.An artificial system designed to think or act like a human, including cognitive architectures and neural networks.  \n",
    "4.A set of techniques, including machine learning, that is designed to approximate a cognitive task.  \n",
    "5.An artificial system designed to act rationally, including an intelligent software agent or embodied robot that achieves goals using perception, planning, reasoning, learning, communicating, decision making, and acting.\n",
    "\n",
    "<p align=right>--- 10 U.S. Code § 2358 (appealed APR 23)&ensp;&ensp;&ensp;</p>\n",
    "\n"
   ]
  },
  {
   "cell_type": "markdown",
   "metadata": {
    "id": "86eMMFOplmYy"
   },
   "source": [
    "### What is Machine Learning (ML)?"
   ]
  },
  {
   "cell_type": "markdown",
   "metadata": {
    "id": "QEIBIZkwlvt8"
   },
   "source": [
    "<br>Machine Learning is the field of study that gives computers the ability to learn without being explicitly programmed.\n",
    "<br><p align=right>&ensp; --- Arthur Samuel</p>\n",
    "\n",
    "\n",
    "<br>A computer program is said to learn from experience E with respect to some task T and some performance measure P, if its performance on T, as measured by P, improves with experience E.\n",
    "<br><p align=right>&ensp; --- Tom Mitchell</p>\n",
    "\n",
    "<br>Machine learning is a branch of artificial intelligence (AI) and computer science which focuses on the use of data and algorithms to imitate the way that humans learn, gradually improving its accuracy.\n",
    "<br><p align=right>&ensp; --- IBM</p>\n",
    "\n",
    "<br>The term “machine learning” means an application of artificial intelligence that is characterized by providing systems the ability to automatically learn and improve on the basis of data or experience, without being explicitly programmed.\n",
    "<br><p align=right>&ensp; --- 15 U.S. Code § 9401(11)</p>\n",
    "\n"
   ]
  },
  {
   "cell_type": "markdown",
   "metadata": {
    "id": "bDNbw5BwnQ1b"
   },
   "source": [
    "### Why Machine Learning?"
   ]
  },
  {
   "cell_type": "markdown",
   "metadata": {
    "id": "nxBP38jro51p"
   },
   "source": [
    "Traditional rule based (expert) system approach\n",
    "\n",
    "<br>Solutions may require a lot of hand-tuning or long lists of rules: one Machine Learning algorithm can often simplify code and perform better.\n",
    "\n",
    "<br>Complex problems for which there is no good solution at all using a traditional approach: the best Machine Learning techniques can find a solution.\n",
    "\n",
    "<br>Fluctuating environments: a Machine Learning system can adapt to new data.\n",
    "\n",
    "<br>Getting insights about complex problems and large amounts of data.\n",
    "\n"
   ]
  },
  {
   "cell_type": "markdown",
   "metadata": {
    "id": "gEgI1hzto1o-"
   },
   "source": [
    "### ML Categories"
   ]
  },
  {
   "cell_type": "markdown",
   "metadata": {
    "id": "5-uv9XxiqEIP"
   },
   "source": [
    "##### Supervised vs Unsupervised Learning\n",
    "\n",
    "<br>Supervised learning refers to ML approaches that includes desired solutions (labels) in training data.\n",
    "<br>Unsupervised learning, on the other hand, would not include label.\n",
    "\n",
    "<br>Semisupervised Learning\n",
    "<br>Training data can be partially labeled --- usually a lot of unlabeled data and a little bit of labeled data. This would be called semisupervised learning."
   ]
  },
  {
   "cell_type": "markdown",
   "metadata": {
    "id": "uEHXs7IvqtaV"
   },
   "source": [
    "##### Reinforcement Learning\n",
    "\n",
    "<br>In Reinforcement Learning, learning system(agent), observe the environment, select and perform actions, and get rewards or penalties in return.\n",
    "<br>It learn by itself what is the best strategy(policy) to get the most\n",
    "reward over time. A policy defines what action the agent should choose given a situation.\n",
    "\n",
    "\n"
   ]
  },
  {
   "cell_type": "markdown",
   "metadata": {
    "id": "fLxQkXM8vBaw"
   },
   "source": [
    "#####Instance-based vs Model-based learning\n",
    "\n",
    "<br>Instance-based learning learn based on instances, while model-based learning tries to fit data into a model.\n",
    "\n"
   ]
  },
  {
   "cell_type": "markdown",
   "metadata": {
    "id": "FUjQFD63qtoC"
   },
   "source": [
    "#####Online vs Offline learning\n",
    "\n",
    "<br>In online learning, system is trained by feeding data instances to it sequentially, either individually or by small groups called mini-batches. Each learning step is fast and cheap, so the system can learn about new data on the fly, as it arrives.\n",
    "\n",
    "<br>In offline learning (batch learning), system is trained using all the available data.\n",
    "\n",
    "<br>In modern approaches, a training process can have an online stage and an offline stage."
   ]
  }
 ],
 "metadata": {
  "colab": {
   "provenance": []
  },
  "kernelspec": {
   "display_name": "Python 3 (ipykernel)",
   "language": "python",
   "name": "python3"
  },
  "language_info": {
   "codemirror_mode": {
    "name": "ipython",
    "version": 3
   },
   "file_extension": ".py",
   "mimetype": "text/x-python",
   "name": "python",
   "nbconvert_exporter": "python",
   "pygments_lexer": "ipython3",
   "version": "3.11.2"
  }
 },
 "nbformat": 4,
 "nbformat_minor": 4
}
